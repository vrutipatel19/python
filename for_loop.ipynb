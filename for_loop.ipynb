{
 "cells": [
  {
   "cell_type": "code",
   "execution_count": 4,
   "id": "50adc979",
   "metadata": {},
   "outputs": [
    {
     "name": "stdout",
     "output_type": "stream",
     "text": [
      "1\n",
      "2\n",
      "3\n",
      "4\n",
      "5\n",
      "6\n",
      "7\n",
      "8\n",
      "9\n",
      "10\n"
     ]
    }
   ],
   "source": [
    "for i in range(1,11):\n",
    "    print(i)"
   ]
  },
  {
   "cell_type": "code",
   "execution_count": 5,
   "id": "521ad127",
   "metadata": {},
   "outputs": [
    {
     "name": "stdout",
     "output_type": "stream",
     "text": [
      "10\n",
      "9\n",
      "8\n",
      "7\n",
      "6\n",
      "5\n",
      "4\n",
      "3\n",
      "2\n",
      "1\n"
     ]
    }
   ],
   "source": [
    "for i in range(10,0,-1):\n",
    "    print(i)"
   ]
  },
  {
   "cell_type": "code",
   "execution_count": 6,
   "id": "84f505e9",
   "metadata": {},
   "outputs": [
    {
     "name": "stdout",
     "output_type": "stream",
     "text": [
      "1\n",
      "3\n",
      "5\n",
      "7\n",
      "9\n"
     ]
    }
   ],
   "source": [
    "for i in range(1,11,2):\n",
    "    print(i)"
   ]
  },
  {
   "cell_type": "code",
   "execution_count": 7,
   "id": "cfe99144",
   "metadata": {},
   "outputs": [
    {
     "name": "stdout",
     "output_type": "stream",
     "text": [
      "2\n",
      "4\n",
      "6\n",
      "8\n",
      "10\n"
     ]
    }
   ],
   "source": [
    "for i in range(2,11,2):\n",
    "    print(i)"
   ]
  },
  {
   "cell_type": "code",
   "execution_count": 10,
   "id": "2923efaf",
   "metadata": {},
   "outputs": [
    {
     "name": "stdout",
     "output_type": "stream",
     "text": [
      "1 hello\n",
      "2 hello\n",
      "3 hello\n",
      "4 hello\n",
      "5 hello\n"
     ]
    }
   ],
   "source": [
    "for i in range(1,6):\n",
    "    print(i,\"hello\")"
   ]
  },
  {
   "cell_type": "code",
   "execution_count": 11,
   "id": "e952687e",
   "metadata": {},
   "outputs": [
    {
     "name": "stdout",
     "output_type": "stream",
     "text": [
      "enter no:5\n",
      "5 = 25\n",
      "enter no:99\n",
      "99 = 9801\n"
     ]
    }
   ],
   "source": [
    "for i in range(2):\n",
    "    no=eval(input(\"enter no:\"))\n",
    "    print(no,\"=\",no*no)"
   ]
  },
  {
   "cell_type": "code",
   "execution_count": 19,
   "id": "2eac4674",
   "metadata": {},
   "outputs": [
    {
     "name": "stdout",
     "output_type": "stream",
     "text": [
      "1 hello\n",
      "2 hello\n",
      "3 hello\n",
      "4 hello\n",
      "5 hello\n",
      "6 hello\n",
      "7 hello\n"
     ]
    }
   ],
   "source": [
    "from random import randint\n",
    "no=randint(1,10)\n",
    "for i in range(no):\n",
    "    print(i+1,\"hello\")"
   ]
  },
  {
   "cell_type": "code",
   "execution_count": 21,
   "id": "1f757a4f",
   "metadata": {},
   "outputs": [
    {
     "name": "stdout",
     "output_type": "stream",
     "text": [
      "AAAAAAACDCDCDCDEF\n"
     ]
    }
   ],
   "source": [
    "#AAAAAACDCDCDEF\n",
    "for i in range(7):\n",
    "    print(\"A\",end=\"\")\n",
    "for i in range(4):\n",
    "    print(\"CD\",end=\"\")\n",
    "print(\"EF\")    "
   ]
  },
  {
   "cell_type": "code",
   "execution_count": 22,
   "id": "fab04447",
   "metadata": {},
   "outputs": [
    {
     "name": "stdout",
     "output_type": "stream",
     "text": [
      "AAAAAAACDCDCDCDEf\n"
     ]
    }
   ],
   "source": [
    "#AAAAAACDCDCDEF\n",
    "for i in range(7):\n",
    "    print(\"A\",end=\"\")\n",
    "for i in range(4):\n",
    "    print(\"C\",end=\"\")\n",
    "    print(\"D\",end=\"\")\n",
    "print(\"E\",end=\"\") \n",
    "print(\"F\") "
   ]
  },
  {
   "cell_type": "code",
   "execution_count": 23,
   "id": "6ace38b3",
   "metadata": {},
   "outputs": [
    {
     "name": "stdout",
     "output_type": "stream",
     "text": [
      "3\n",
      "4\n",
      "5\n",
      "6\n"
     ]
    }
   ],
   "source": [
    "for i in range(3,7):\n",
    "    print(i)"
   ]
  },
  {
   "cell_type": "code",
   "execution_count": 30,
   "id": "7b24f85e",
   "metadata": {},
   "outputs": [
    {
     "name": "stdout",
     "output_type": "stream",
     "text": [
      "*\n",
      "**\n",
      "***\n",
      "****\n",
      "*****\n"
     ]
    }
   ],
   "source": [
    "# *\n",
    "# **\n",
    "# ***\n",
    "# ****\n",
    "# *****\n",
    "\n",
    "for i in range(1,6):\n",
    "    print('*'*i)"
   ]
  },
  {
   "cell_type": "code",
   "execution_count": 26,
   "id": "56063c4e",
   "metadata": {},
   "outputs": [
    {
     "name": "stdout",
     "output_type": "stream",
     "text": [
      "*****\n",
      "****\n",
      "***\n",
      "**\n",
      "*\n"
     ]
    }
   ],
   "source": [
    "for i in range(5,0,-1):\n",
    "    print('*'*i)"
   ]
  },
  {
   "cell_type": "code",
   "execution_count": 27,
   "id": "e5383e84",
   "metadata": {},
   "outputs": [
    {
     "name": "stdout",
     "output_type": "stream",
     "text": [
      "AAAAA\n",
      "AAAA\n",
      "AAA\n",
      "AA\n",
      "A\n"
     ]
    }
   ],
   "source": [
    "for i in range(5,0,-1):\n",
    "    print('A'*i)"
   ]
  },
  {
   "cell_type": "code",
   "execution_count": 29,
   "id": "cd97d0b8",
   "metadata": {},
   "outputs": [
    {
     "name": "stdout",
     "output_type": "stream",
     "text": [
      "A\n",
      "AA\n",
      "AAA\n",
      "AAAA\n",
      "AAAAA\n"
     ]
    }
   ],
   "source": [
    "for i in range(1,6):\n",
    "    print('A'*i)"
   ]
  },
  {
   "cell_type": "code",
   "execution_count": 37,
   "id": "fe970f9d",
   "metadata": {},
   "outputs": [
    {
     "name": "stdout",
     "output_type": "stream",
     "text": [
      "1\n",
      "\n",
      "12\n",
      "\n",
      "123\n",
      "\n",
      "1234\n",
      "\n",
      "12345\n",
      "\n"
     ]
    }
   ],
   "source": [
    "for i in range(1,6):\n",
    "    for j in range(i):\n",
    "        print(j+1,end=\"\") \n",
    "    print(\"\\n\")"
   ]
  },
  {
   "cell_type": "code",
   "execution_count": 39,
   "id": "24eaf68f",
   "metadata": {},
   "outputs": [
    {
     "name": "stdout",
     "output_type": "stream",
     "text": [
      "1\n",
      "\n",
      "22\n",
      "\n",
      "333\n",
      "\n",
      "4444\n",
      "\n",
      "55555\n",
      "\n"
     ]
    }
   ],
   "source": [
    "for i in range(1,6):\n",
    "    for j in range(i):\n",
    "        print(i,end=\"\") \n",
    "    print(\"\\n\")"
   ]
  },
  {
   "cell_type": "code",
   "execution_count": 40,
   "id": "a1638058",
   "metadata": {},
   "outputs": [
    {
     "name": "stdout",
     "output_type": "stream",
     "text": [
      "*\n",
      "\n",
      "**\n",
      "\n",
      "***\n",
      "\n",
      "****\n",
      "\n",
      "*****\n",
      "\n"
     ]
    }
   ],
   "source": [
    "for i in range(1,6):\n",
    "    for j in range(i):\n",
    "        print('*',end=\"\") \n",
    "    print(\"\\n\")"
   ]
  },
  {
   "cell_type": "code",
   "execution_count": 42,
   "id": "90a0f5ab",
   "metadata": {},
   "outputs": [
    {
     "name": "stdout",
     "output_type": "stream",
     "text": [
      "1\n",
      "\n",
      "23\n",
      "\n",
      "456\n",
      "\n",
      "78910\n",
      "\n",
      "1112131415\n",
      "\n"
     ]
    }
   ],
   "source": [
    "no=1\n",
    "for i in range(1,6):\n",
    "    for j in range(i):\n",
    "        print(no,end=\"\") \n",
    "        no=no+1\n",
    "    print(\"\\n\")"
   ]
  },
  {
   "cell_type": "code",
   "execution_count": 46,
   "id": "0450943a",
   "metadata": {},
   "outputs": [
    {
     "name": "stdout",
     "output_type": "stream",
     "text": [
      "a\n",
      "\n",
      "bc\n",
      "\n",
      "def\n",
      "\n",
      "ghij\n",
      "\n",
      "klmno\n",
      "\n"
     ]
    }
   ],
   "source": [
    "no=97\n",
    "for i in range(1,6):\n",
    "    for j in range(i):\n",
    "        print(chr(no),end=\"\") \n",
    "        no=no+1\n",
    "    print(\"\\n\")"
   ]
  },
  {
   "cell_type": "code",
   "execution_count": 47,
   "id": "5cb89bef",
   "metadata": {},
   "outputs": [
    {
     "name": "stdout",
     "output_type": "stream",
     "text": [
      "A\n",
      "\n",
      "BC\n",
      "\n",
      "DEF\n",
      "\n",
      "GHIJ\n",
      "\n",
      "KLMNO\n",
      "\n"
     ]
    }
   ],
   "source": [
    "no=65\n",
    "for i in range(1,6):\n",
    "    for j in range(i):\n",
    "        print(chr(no),end=\"\") \n",
    "        no=no+1\n",
    "    print(\"\\n\")"
   ]
  },
  {
   "cell_type": "code",
   "execution_count": null,
   "id": "b8963ec5",
   "metadata": {},
   "outputs": [
    {
     "name": "stdout",
     "output_type": "stream",
     "text": [
      "stack operation\n",
      "1. push\n",
      "2. Display stack\n",
      "3. Exit\n",
      "enter your choice(1-5):3\n"
     ]
    }
   ],
   "source": [
    "# def cls():\n",
    "#     print(\"\\n\"*1)\n",
    "def isEmpty(stk)    :\n",
    "    if stk==[]:\n",
    "        return True\n",
    "    else:\n",
    "        return False\n",
    "def push(stk,item)   :\n",
    "    stk.append(item)\n",
    "    top=len(stk)-1\n",
    "def display(stk)   :\n",
    "    if isEmpty(stk):\n",
    "        print(\"staxk empty\")\n",
    "    else:\n",
    "        top=len(stk)-1\n",
    "        print(stk[top],\"<-top\")\n",
    "        for i in range(top-1,-1,-1):\n",
    "            print(stk[i])\n",
    "stack=[]\n",
    "top=None\n",
    "\n",
    "while True:\n",
    "#     cls()\n",
    "    print(\"stack operation\")\n",
    "    print(\"1. push\")\n",
    "    print(\"2. Display stack\")\n",
    "    print(\"3. Exit\")\n",
    "    \n",
    "    ch=int(input(\"enter your choice(1-5):\"))\n",
    "    \n",
    "    if ch==1:\n",
    "        bno=int(input(\"enter book number\"))\n",
    "        bname=input(\"enter book name\")\n",
    "        item=[bno,bname]\n",
    "        push(stack,item)\n",
    "        input()\n",
    "    elif ch==2:\n",
    "        display(stack)\n",
    "        input()\n",
    "    elif ch==3:\n",
    "        break\n",
    "    else:\n",
    "        print(\"invalid choice\")\n",
    "        input()"
   ]
  },
  {
   "cell_type": "code",
   "execution_count": null,
   "id": "ac1d12d0",
   "metadata": {},
   "outputs": [],
   "source": []
  }
 ],
 "metadata": {
  "kernelspec": {
   "display_name": "Python 3 (ipykernel)",
   "language": "python",
   "name": "python3"
  },
  "language_info": {
   "codemirror_mode": {
    "name": "ipython",
    "version": 3
   },
   "file_extension": ".py",
   "mimetype": "text/x-python",
   "name": "python",
   "nbconvert_exporter": "python",
   "pygments_lexer": "ipython3",
   "version": "3.9.12"
  }
 },
 "nbformat": 4,
 "nbformat_minor": 5
}
