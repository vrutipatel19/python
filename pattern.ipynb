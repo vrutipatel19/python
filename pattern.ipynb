{
 "cells": [
  {
   "cell_type": "code",
   "execution_count": 54,
   "id": "4695b2ba",
   "metadata": {},
   "outputs": [
    {
     "name": "stdout",
     "output_type": "stream",
     "text": [
      "enter rows5\n",
      "                     \n",
      "   *       *       *  \n",
      "  * *     * *     * *  \n",
      " * * *   * * *   * * *  \n",
      "* * * * * * * * * * * *  \n"
     ]
    }
   ],
   "source": [
    "row=int(input('enter rows'))\n",
    "\n",
    "for i in range(1,row+1):  \n",
    "    for space in range(1,(row-i)+1):  #first space\n",
    "        print(end=\" \") \n",
    "    for j in range(i,2*i-1): #trianlge\n",
    "        print(\"* \", end='') \n",
    "    for space in range(row,i,-1): #second space\n",
    "        print(\" \",end=\" \")     \n",
    "    for j in range(i,2*i-1): #trianlge\n",
    "        print(\"* \", end='') \n",
    " #code repate\n",
    "    for space in range(row,i,-1): #second space\n",
    "        print(\" \",end=\" \")     \n",
    "    for j in range(i,2*i-1): #trianlge\n",
    "        print(\"* \", end='') \n",
    "    print(\" \")  \n"
   ]
  },
  {
   "cell_type": "code",
   "execution_count": 53,
   "id": "ae5853c4",
   "metadata": {},
   "outputs": [
    {
     "name": "stdout",
     "output_type": "stream",
     "text": [
      "AAAAA\n",
      "AAAA\n",
      "AAA\n",
      "AA\n",
      "A\n"
     ]
    }
   ],
   "source": [
    "c='A'   \n",
    "for i in range(5,0,-1):\n",
    "    print(c*i) \n"
   ]
  },
  {
   "cell_type": "code",
   "execution_count": 55,
   "id": "9923faec",
   "metadata": {},
   "outputs": [
    {
     "name": "stdout",
     "output_type": "stream",
     "text": [
      "enter rows10\n",
      "          \n",
      "        *  \n",
      "       * *  \n",
      "      * * *  \n",
      "     * * * *  \n",
      "    * * * * *  \n",
      "   * * * * * *  \n",
      "  * * * * * * *  \n",
      " * * * * * * * *  \n",
      "* * * * * * * * *  \n"
     ]
    }
   ],
   "source": [
    "row=int(input('enter rows'))\n",
    "for i in range(1,row+1):  \n",
    "    for space in range(1,(row-i)+1):  #first space\n",
    "        print(end=\" \") \n",
    "    for j in range(i,2*i-1): #trianlge\n",
    "        print(\"* \", end='') \n",
    "    print(\" \")  "
   ]
  },
  {
   "cell_type": "code",
   "execution_count": 52,
   "id": "bd6ee9e0",
   "metadata": {},
   "outputs": [
    {
     "name": "stdout",
     "output_type": "stream",
     "text": [
      "please enter diamond's height:5\n",
      "      *\n",
      "     ***\n",
      "    *****\n",
      "   *******\n",
      "  *********\n",
      "   *******\n",
      "    *****\n",
      "     ***\n",
      "      *\n"
     ]
    }
   ],
   "source": [
    "h = eval(input(\"please enter diamond's height:\"))\n",
    "\n",
    "for i in range(h):\n",
    "    print(\" \"*(h-i), \"*\"*(i*2+1))\n",
    "for i in range(h-2, -1, -1):\n",
    "    print(\" \"*(h-i), \"*\"*(i*2+1))"
   ]
  },
  {
   "cell_type": "code",
   "execution_count": 26,
   "id": "9254a6e4",
   "metadata": {},
   "outputs": [
    {
     "name": "stdout",
     "output_type": "stream",
     "text": [
      "*\n",
      "\n",
      "**\n",
      "\n",
      "***\n",
      "\n",
      "****\n",
      "\n",
      "*****\n",
      "\n"
     ]
    }
   ],
   "source": [
    "for i in range(1,6):\n",
    "    for j in range(i):\n",
    "        print('*',end=\"\")\n",
    "    print(\"\\n\")    "
   ]
  },
  {
   "cell_type": "code",
   "execution_count": 27,
   "id": "d89026e5",
   "metadata": {},
   "outputs": [
    {
     "name": "stdout",
     "output_type": "stream",
     "text": [
      "*****\n",
      "\n",
      "****\n",
      "\n",
      "***\n",
      "\n",
      "**\n",
      "\n",
      "*\n",
      "\n"
     ]
    }
   ],
   "source": [
    "for i in range(5,0,-1):\n",
    "    for j in range(i):\n",
    "        print('*',end=\"\")\n",
    "    print(\"\\n\") "
   ]
  },
  {
   "cell_type": "code",
   "execution_count": 28,
   "id": "798410e8",
   "metadata": {},
   "outputs": [
    {
     "name": "stdout",
     "output_type": "stream",
     "text": [
      "1\n",
      "\n",
      "11\n",
      "\n",
      "111\n",
      "\n",
      "1111\n",
      "\n",
      "11111\n",
      "\n"
     ]
    }
   ],
   "source": [
    "for i in range(1,6):\n",
    "    for j in range(i):\n",
    "        print('1',end=\"\")\n",
    "    print(\"\\n\")  "
   ]
  },
  {
   "cell_type": "code",
   "execution_count": 29,
   "id": "a1e51baa",
   "metadata": {},
   "outputs": [
    {
     "name": "stdout",
     "output_type": "stream",
     "text": [
      "1\n",
      "\n",
      "22\n",
      "\n",
      "333\n",
      "\n",
      "4444\n",
      "\n",
      "55555\n",
      "\n"
     ]
    }
   ],
   "source": [
    "for i in range(1,6):\n",
    "    for j in range(i):\n",
    "        print(i,end=\"\")\n",
    "    print(\"\\n\")  "
   ]
  },
  {
   "cell_type": "code",
   "execution_count": 36,
   "id": "afc9a513",
   "metadata": {},
   "outputs": [
    {
     "name": "stdout",
     "output_type": "stream",
     "text": [
      "1\n",
      "\n",
      "12\n",
      "\n",
      "123\n",
      "\n",
      "1234\n",
      "\n",
      "12345\n",
      "\n"
     ]
    }
   ],
   "source": [
    "for i in range(1,6):\n",
    "    for j in range(i):\n",
    "        print(j+1,end=\"\")\n",
    "    print(\"\\n\")  "
   ]
  },
  {
   "cell_type": "code",
   "execution_count": 37,
   "id": "433e1c34",
   "metadata": {},
   "outputs": [
    {
     "name": "stdout",
     "output_type": "stream",
     "text": [
      "A\n",
      "\n",
      "AA\n",
      "\n",
      "AAA\n",
      "\n",
      "AAAA\n",
      "\n",
      "AAAAA\n",
      "\n"
     ]
    }
   ],
   "source": [
    "for i in range(1,6):\n",
    "    for j in range(i):\n",
    "        print('A',end=\"\")\n",
    "    print(\"\\n\")  "
   ]
  },
  {
   "cell_type": "code",
   "execution_count": 41,
   "id": "c9c15932",
   "metadata": {},
   "outputs": [
    {
     "name": "stdout",
     "output_type": "stream",
     "text": [
      "A\n",
      "\n",
      "BC\n",
      "\n",
      "DEF\n",
      "\n",
      "GHIJ\n",
      "\n",
      "KLMNO\n",
      "\n"
     ]
    }
   ],
   "source": [
    "no=65\n",
    "for i in range(1,6):\n",
    "    for j in range(i):\n",
    "        print(chr(no),end=\"\")\n",
    "        no=no+1\n",
    "    print(\"\\n\") "
   ]
  },
  {
   "cell_type": "code",
   "execution_count": 43,
   "id": "07c146b8",
   "metadata": {},
   "outputs": [
    {
     "name": "stdout",
     "output_type": "stream",
     "text": [
      "L\n",
      "\n",
      "MN\n",
      "\n",
      "OPQ\n",
      "\n",
      "RSTU\n",
      "\n",
      "VWXYZ\n",
      "\n"
     ]
    }
   ],
   "source": [
    "no=76\n",
    "for i in range(1,6):\n",
    "    for j in range(i):\n",
    "        print(chr(no),end=\"\")\n",
    "        no=no+1\n",
    "    print(\"\\n\") "
   ]
  },
  {
   "cell_type": "code",
   "execution_count": 45,
   "id": "5225755f",
   "metadata": {},
   "outputs": [
    {
     "name": "stdout",
     "output_type": "stream",
     "text": [
      "a\n",
      "\n",
      "bc\n",
      "\n",
      "def\n",
      "\n",
      "ghij\n",
      "\n",
      "klmno\n",
      "\n"
     ]
    }
   ],
   "source": [
    "no=97\n",
    "for i in range(1,6):\n",
    "    for j in range(i):\n",
    "        print(chr(no),end=\"\")\n",
    "        no=no+1\n",
    "    print(\"\\n\") "
   ]
  },
  {
   "cell_type": "code",
   "execution_count": 50,
   "id": "c7605dbc",
   "metadata": {},
   "outputs": [
    {
     "name": "stdout",
     "output_type": "stream",
     "text": [
      "1\n",
      "\n",
      "23\n",
      "\n",
      "456\n",
      "\n",
      "78910\n",
      "\n",
      "1112131415\n",
      "\n"
     ]
    }
   ],
   "source": [
    "no=1\n",
    "for i in range(1,6):\n",
    "    for j in range(i):\n",
    "        print(no,end=\"\")\n",
    "        no=no+1\n",
    "    print(\"\\n\") "
   ]
  },
  {
   "cell_type": "code",
   "execution_count": null,
   "id": "8fb4a6c1",
   "metadata": {},
   "outputs": [],
   "source": []
  }
 ],
 "metadata": {
  "kernelspec": {
   "display_name": "Python 3 (ipykernel)",
   "language": "python",
   "name": "python3"
  },
  "language_info": {
   "codemirror_mode": {
    "name": "ipython",
    "version": 3
   },
   "file_extension": ".py",
   "mimetype": "text/x-python",
   "name": "python",
   "nbconvert_exporter": "python",
   "pygments_lexer": "ipython3",
   "version": "3.9.12"
  }
 },
 "nbformat": 4,
 "nbformat_minor": 5
}
