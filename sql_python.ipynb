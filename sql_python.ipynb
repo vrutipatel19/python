{
 "cells": [
  {
   "cell_type": "code",
   "execution_count": 1,
   "id": "0d7f7289",
   "metadata": {},
   "outputs": [],
   "source": [
    "#import libraries\n",
    "\n",
    "import mysql.connector\n",
    "from mysql.connector import Error\n",
    "import pandas as pd"
   ]
  },
  {
   "cell_type": "code",
   "execution_count": 2,
   "id": "4b1f7ebc",
   "metadata": {},
   "outputs": [
    {
     "name": "stdout",
     "output_type": "stream",
     "text": [
      "mysql database connection successfully \n"
     ]
    }
   ],
   "source": [
    "def create_server_connection(host_name,user_name,user_password):\n",
    "    connection=None\n",
    "    try:\n",
    "        connection = mysql.connector.connect(\n",
    "            host=host_name,\n",
    "            user=user_name,\n",
    "            password=user_password\n",
    "        )\n",
    "        print('mysql database connection successfully ')\n",
    "    except Error as err:\n",
    "        print(f\"Error:'{err}'\")\n",
    "    return connection\n",
    "#put our mysql Terminal Password\n",
    "      \n",
    "password=\"S!mple123\"              \n",
    "#database name\n",
    "db= \"vruti\"              \n",
    "connection = create_server_connection(\"localhost\", \"root\", password)"
   ]
  },
  {
   "cell_type": "code",
   "execution_count": 3,
   "id": "9e22df56",
   "metadata": {},
   "outputs": [
    {
     "name": "stdout",
     "output_type": "stream",
     "text": [
      "Database Create successfully\n"
     ]
    }
   ],
   "source": [
    "#create mysql_pythod\n",
    "  \n",
    "#create_databse is a funcation (one fun create with 2 parametres)\n",
    "def create_database(connection,query):\n",
    "    cursor=connection.cursor()\n",
    "    try:\n",
    "        cursor.execute(query)\n",
    "        print(\"Database Create successfully\")\n",
    "    except Error as err:\n",
    "        print(f\"Error:'{err}'\")\n",
    "create_database_query=\"create database vruti\"        \n",
    "create_database(connection,create_database_query)"
   ]
  },
  {
   "cell_type": "code",
   "execution_count": 4,
   "id": "cb9da08c",
   "metadata": {},
   "outputs": [],
   "source": [
    "#connect to database\n",
    "\n",
    "def create_db_connection(host_name,user_name,user_password,db_name):\n",
    "    connection=None\n",
    "    try:\n",
    "        connection = mysql.connector.connect(\n",
    "            host=host_name,\n",
    "            user=user_name,\n",
    "            password=user_password,\n",
    "            database=db_name)\n",
    "        print('mysql database connection successfully ')\n",
    "    except Error as err:\n",
    "        print(f\"Error:'{err}'\")\n",
    "    return connection   "
   ]
  },
  {
   "cell_type": "code",
   "execution_count": 5,
   "id": "a31106b0",
   "metadata": {},
   "outputs": [],
   "source": [
    "#Exceute sql queries\n",
    "\n",
    "def execute_query(connection,query):\n",
    "    cursor=connection.cursor()\n",
    "    try:\n",
    "        cursor.execute(query)\n",
    "        connection.commit()\n",
    "        print(\" Query was successfully\")\n",
    "    except Error as err:\n",
    "        print(f\"Error:'{err}'\")\n",
    "\n",
    "    "
   ]
  },
  {
   "cell_type": "code",
   "execution_count": 6,
   "id": "550448de",
   "metadata": {},
   "outputs": [
    {
     "name": "stdout",
     "output_type": "stream",
     "text": [
      "mysql database connection successfully \n",
      " Query was successfully\n"
     ]
    }
   ],
   "source": [
    "create_orders_table= \"\"\"\n",
    "create table orders(\n",
    "order_id int primary key,\n",
    "customer_name varchar(30) not null,\n",
    "product_name varchar(20) not null,\n",
    "date_ordered date,\n",
    "quantity int,\n",
    "unit_price float,\n",
    "phone_number varchar(20));\n",
    "\"\"\"\n",
    "#connect to the database\n",
    "\n",
    "connection = create_db_connection(\"localhost\",\"root\",password,db)\n",
    "execute_query(connection,create_orders_table)"
   ]
  },
  {
   "cell_type": "code",
   "execution_count": 7,
   "id": "797a207b",
   "metadata": {},
   "outputs": [
    {
     "name": "stdout",
     "output_type": "stream",
     "text": [
      "mysql database connection successfully \n",
      " Query was successfully\n"
     ]
    }
   ],
   "source": [
    "#insert data\n",
    "\n",
    "data_orders = \"\"\"\n",
    "insert into orders values\n",
    "(101,'steve','laptop','2018-06-12',2,800,'1234567890'),\n",
    "(102,'jos','books','2019-02-10',10,12,'1234567890'),\n",
    "(103,'stacy','trouseres','2019-12-25',5,50,'1234567890'),\n",
    "(104,'nancy','t_shirts','2018-07-14',7,30,'1234567890'),\n",
    "(105,'maria','headphone','2019-05-30',6,48,'1234567890');\n",
    "\"\"\"\n",
    "\n",
    "connection = create_db_connection(\"localhost\",\"root\",password,db)\n",
    "execute_query(connection,data_orders)"
   ]
  },
  {
   "cell_type": "code",
   "execution_count": 8,
   "id": "decf15e6",
   "metadata": {},
   "outputs": [],
   "source": [
    "def read_query(connection,query):\n",
    "    cursor=connection.cursor()\n",
    "    result=None\n",
    "    try:\n",
    "        cursor.execute(query)\n",
    "        result=cursor.fetchall()\n",
    "        return result\n",
    "    except Error as err:\n",
    "        print(f\"Error:'{err}'\")\n",
    "    \n",
    "    "
   ]
  },
  {
   "cell_type": "code",
   "execution_count": 9,
   "id": "a9aeeaff",
   "metadata": {},
   "outputs": [
    {
     "name": "stdout",
     "output_type": "stream",
     "text": [
      "mysql database connection successfully \n",
      "(101, 'steve', 'laptop', datetime.date(2018, 6, 12), 2, 800.0, '1234567890')\n",
      "(102, 'jos', 'books', datetime.date(2019, 2, 10), 10, 12.0, '1234567890')\n",
      "(103, 'stacy', 'trouseres', datetime.date(2019, 12, 25), 5, 50.0, '1234567890')\n",
      "(104, 'nancy', 't_shirts', datetime.date(2018, 7, 14), 7, 30.0, '1234567890')\n",
      "(105, 'maria', 'headphone', datetime.date(2019, 5, 30), 6, 48.0, '1234567890')\n"
     ]
    }
   ],
   "source": [
    "#using the select sttmt:(all data show)\n",
    "q1=\"\"\"\n",
    "select * from orders;\n",
    "\"\"\"\n",
    "connection = create_db_connection(\"localhost\",\"root\",password,db)\n",
    "results=read_query(connection,q1)\n",
    "for result in results:\n",
    "    print(result)"
   ]
  },
  {
   "cell_type": "code",
   "execution_count": 10,
   "id": "5023bbde",
   "metadata": {},
   "outputs": [
    {
     "name": "stdout",
     "output_type": "stream",
     "text": [
      "mysql database connection successfully \n",
      "('steve', '1234567890')\n",
      "('jos', '1234567890')\n",
      "('stacy', '1234567890')\n",
      "('nancy', '1234567890')\n",
      "('maria', '1234567890')\n"
     ]
    }
   ],
   "source": [
    "#using the select sttmt:(name and conect number data show in table)\n",
    "q2=\"\"\"\n",
    "select customer_name,phone_number from orders;\n",
    "\"\"\"\n",
    "connection = create_db_connection(\"localhost\",\"root\",password,db)\n",
    "results=read_query(connection,q2)\n",
    "for result in results:\n",
    "    print(result)"
   ]
  },
  {
   "cell_type": "code",
   "execution_count": 11,
   "id": "72dd750f",
   "metadata": {},
   "outputs": [
    {
     "name": "stdout",
     "output_type": "stream",
     "text": [
      "mysql database connection successfully \n",
      "(2018,)\n",
      "(2019,)\n",
      "(2019,)\n",
      "(2018,)\n",
      "(2019,)\n"
     ]
    }
   ],
   "source": [
    "#using the select sttmt:(only year print in date)\n",
    "q3=\"\"\"\n",
    "select year(date_ordered) from orders;\n",
    "\"\"\"\n",
    "connection = create_db_connection(\"localhost\",\"root\",password,db)\n",
    "results=read_query(connection,q3)\n",
    "for result in results:\n",
    "    print(result)"
   ]
  },
  {
   "cell_type": "code",
   "execution_count": 12,
   "id": "bcc962bb",
   "metadata": {},
   "outputs": [
    {
     "name": "stdout",
     "output_type": "stream",
     "text": [
      "mysql database connection successfully \n",
      "(2018,)\n",
      "(2019,)\n"
     ]
    }
   ],
   "source": [
    "#using the select sttmt:(only year print in date using distinct keyword)\n",
    "q4=\"\"\"\n",
    "select distinct year(date_ordered) from orders;\n",
    "\"\"\"\n",
    "connection = create_db_connection(\"localhost\",\"root\",password,db)\n",
    "results=read_query(connection,q4)\n",
    "for result in results:\n",
    "    print(result)"
   ]
  },
  {
   "cell_type": "code",
   "execution_count": 13,
   "id": "9bcf6341",
   "metadata": {},
   "outputs": [
    {
     "name": "stdout",
     "output_type": "stream",
     "text": [
      "mysql database connection successfully \n",
      "(101, 'steve', 'laptop', datetime.date(2018, 6, 12), 2, 800.0, '1234567890')\n",
      "(104, 'nancy', 't_shirts', datetime.date(2018, 7, 14), 7, 30.0, '1234567890')\n"
     ]
    }
   ],
   "source": [
    "q5=\"\"\"\n",
    "select * from orders where date_ordered<'2018-12-31';\n",
    "\"\"\"\n",
    "connection = create_db_connection(\"localhost\",\"root\",password,db)\n",
    "results=read_query(connection,q5)\n",
    "for result in results:\n",
    "    print(result)"
   ]
  },
  {
   "cell_type": "code",
   "execution_count": 14,
   "id": "396a86a3",
   "metadata": {},
   "outputs": [
    {
     "name": "stdout",
     "output_type": "stream",
     "text": [
      "mysql database connection successfully \n",
      "(102, 'jos', 'books', datetime.date(2019, 2, 10), 10, 12.0, '1234567890')\n",
      "(103, 'stacy', 'trouseres', datetime.date(2019, 12, 25), 5, 50.0, '1234567890')\n",
      "(105, 'maria', 'headphone', datetime.date(2019, 5, 30), 6, 48.0, '1234567890')\n"
     ]
    }
   ],
   "source": [
    "q6=\"\"\"\n",
    "select * from orders where date_ordered>'2018-12-31';\n",
    "\"\"\"\n",
    "connection = create_db_connection(\"localhost\",\"root\",password,db)\n",
    "results=read_query(connection,q6)\n",
    "for result in results:\n",
    "    print(result)"
   ]
  },
  {
   "cell_type": "code",
   "execution_count": 15,
   "id": "fbfe0eb6",
   "metadata": {},
   "outputs": [
    {
     "name": "stdout",
     "output_type": "stream",
     "text": [
      "mysql database connection successfully \n",
      "(102, 'jos', 'books', datetime.date(2019, 2, 10), 10, 12.0, '1234567890')\n",
      "(104, 'nancy', 't_shirts', datetime.date(2018, 7, 14), 7, 30.0, '1234567890')\n",
      "(105, 'maria', 'headphone', datetime.date(2019, 5, 30), 6, 48.0, '1234567890')\n",
      "(103, 'stacy', 'trouseres', datetime.date(2019, 12, 25), 5, 50.0, '1234567890')\n",
      "(101, 'steve', 'laptop', datetime.date(2018, 6, 12), 2, 800.0, '1234567890')\n"
     ]
    }
   ],
   "source": [
    "q7=\"\"\"\n",
    "select * from orders order by unit_price;\n",
    "\"\"\"\n",
    "connection = create_db_connection(\"localhost\",\"root\",password,db)\n",
    "results=read_query(connection,q7)\n",
    "for result in results:\n",
    "    print(result)"
   ]
  },
  {
   "cell_type": "code",
   "execution_count": 16,
   "id": "29a2f01c",
   "metadata": {},
   "outputs": [
    {
     "data": {
      "text/html": [
       "<div>\n",
       "<style scoped>\n",
       "    .dataframe tbody tr th:only-of-type {\n",
       "        vertical-align: middle;\n",
       "    }\n",
       "\n",
       "    .dataframe tbody tr th {\n",
       "        vertical-align: top;\n",
       "    }\n",
       "\n",
       "    .dataframe thead th {\n",
       "        text-align: right;\n",
       "    }\n",
       "</style>\n",
       "<table border=\"1\" class=\"dataframe\">\n",
       "  <thead>\n",
       "    <tr style=\"text-align: right;\">\n",
       "      <th></th>\n",
       "      <th>order_id</th>\n",
       "      <th>customer_name</th>\n",
       "      <th>product_name</th>\n",
       "      <th>date_ordered</th>\n",
       "      <th>quantity</th>\n",
       "      <th>unit_price</th>\n",
       "      <th>phone_number</th>\n",
       "    </tr>\n",
       "  </thead>\n",
       "  <tbody>\n",
       "    <tr>\n",
       "      <th>0</th>\n",
       "      <td>102</td>\n",
       "      <td>jos</td>\n",
       "      <td>books</td>\n",
       "      <td>2019-02-10</td>\n",
       "      <td>10</td>\n",
       "      <td>12.0</td>\n",
       "      <td>1234567890</td>\n",
       "    </tr>\n",
       "    <tr>\n",
       "      <th>1</th>\n",
       "      <td>104</td>\n",
       "      <td>nancy</td>\n",
       "      <td>t_shirts</td>\n",
       "      <td>2018-07-14</td>\n",
       "      <td>7</td>\n",
       "      <td>30.0</td>\n",
       "      <td>1234567890</td>\n",
       "    </tr>\n",
       "    <tr>\n",
       "      <th>2</th>\n",
       "      <td>105</td>\n",
       "      <td>maria</td>\n",
       "      <td>headphone</td>\n",
       "      <td>2019-05-30</td>\n",
       "      <td>6</td>\n",
       "      <td>48.0</td>\n",
       "      <td>1234567890</td>\n",
       "    </tr>\n",
       "    <tr>\n",
       "      <th>3</th>\n",
       "      <td>103</td>\n",
       "      <td>stacy</td>\n",
       "      <td>trouseres</td>\n",
       "      <td>2019-12-25</td>\n",
       "      <td>5</td>\n",
       "      <td>50.0</td>\n",
       "      <td>1234567890</td>\n",
       "    </tr>\n",
       "    <tr>\n",
       "      <th>4</th>\n",
       "      <td>101</td>\n",
       "      <td>steve</td>\n",
       "      <td>laptop</td>\n",
       "      <td>2018-06-12</td>\n",
       "      <td>2</td>\n",
       "      <td>800.0</td>\n",
       "      <td>1234567890</td>\n",
       "    </tr>\n",
       "  </tbody>\n",
       "</table>\n",
       "</div>"
      ],
      "text/plain": [
       "   order_id customer_name product_name date_ordered  quantity  unit_price  \\\n",
       "0       102           jos        books   2019-02-10        10        12.0   \n",
       "1       104         nancy     t_shirts   2018-07-14         7        30.0   \n",
       "2       105         maria    headphone   2019-05-30         6        48.0   \n",
       "3       103         stacy    trouseres   2019-12-25         5        50.0   \n",
       "4       101         steve       laptop   2018-06-12         2       800.0   \n",
       "\n",
       "  phone_number  \n",
       "0   1234567890  \n",
       "1   1234567890  \n",
       "2   1234567890  \n",
       "3   1234567890  \n",
       "4   1234567890  "
      ]
     },
     "metadata": {},
     "output_type": "display_data"
    }
   ],
   "source": [
    "#create dataframe \n",
    "from_db=[]\n",
    "\n",
    "for result in results:\n",
    "    result=list(result)\n",
    "    from_db.append(result)\n",
    "columns=[\"order_id\",'customer_name','product_name',\"date_ordered\",\"quantity\",\n",
    "        \"unit_price\",\"phone_number\"]    \n",
    "df=pd.DataFrame(from_db,columns=columns) \n",
    "#pd.dataframe whiche is function converting to list to dataframe\n",
    "\n",
    "display(df)"
   ]
  },
  {
   "cell_type": "code",
   "execution_count": 17,
   "id": "c9bf5641",
   "metadata": {},
   "outputs": [
    {
     "name": "stdout",
     "output_type": "stream",
     "text": [
      "mysql database connection successfully \n",
      " Query was successfully\n"
     ]
    }
   ],
   "source": [
    "#update command (change the unit price one of the order command)\n",
    "\n",
    "update=\"\"\"\n",
    "update orders\n",
    "set unit_price=45\n",
    "where order_id=103\n",
    "\"\"\"\n",
    "\n",
    "connection = create_db_connection(\"localhost\",\"root\",password,db)\n",
    "execute_query(connection,update)"
   ]
  },
  {
   "cell_type": "code",
   "execution_count": 18,
   "id": "26b5f87c",
   "metadata": {},
   "outputs": [
    {
     "name": "stdout",
     "output_type": "stream",
     "text": [
      "mysql database connection successfully \n",
      "(103, 'stacy', 'trouseres', datetime.date(2019, 12, 25), 5, 45.0, '1234567890')\n"
     ]
    }
   ],
   "source": [
    "#using the select sttmt:(all data show)\n",
    "q8=\"\"\"\n",
    "select * from orders where order_id=103;\n",
    "\"\"\"\n",
    "connection = create_db_connection(\"localhost\",\"root\",password,db)\n",
    "results=read_query(connection,q8)\n",
    "for result in results:\n",
    "    print(result)"
   ]
  },
  {
   "cell_type": "code",
   "execution_count": 19,
   "id": "29f7dd6d",
   "metadata": {},
   "outputs": [
    {
     "name": "stdout",
     "output_type": "stream",
     "text": [
      "mysql database connection successfully \n",
      " Query was successfully\n"
     ]
    }
   ],
   "source": [
    "#delete commnad\n",
    "\n",
    "delete_order=\"\"\"\n",
    "delete from orders\n",
    "where order_id=105;\n",
    "\"\"\"\n",
    "\n",
    "connection = create_db_connection(\"localhost\",\"root\",password,db)\n",
    "execute_query(connection,delete_order)"
   ]
  },
  {
   "cell_type": "code",
   "execution_count": 20,
   "id": "60f23a2a",
   "metadata": {},
   "outputs": [
    {
     "name": "stdout",
     "output_type": "stream",
     "text": [
      "mysql database connection successfully \n",
      "(101, 'steve', 'laptop', datetime.date(2018, 6, 12), 2, 800.0, '1234567890')\n",
      "(102, 'jos', 'books', datetime.date(2019, 2, 10), 10, 12.0, '1234567890')\n",
      "(103, 'stacy', 'trouseres', datetime.date(2019, 12, 25), 5, 45.0, '1234567890')\n",
      "(104, 'nancy', 't_shirts', datetime.date(2018, 7, 14), 7, 30.0, '1234567890')\n"
     ]
    }
   ],
   "source": [
    "#using the select sttmt:(all data show)\n",
    "q9=\"\"\"\n",
    "select * from orders;\n",
    "\"\"\"\n",
    "connection = create_db_connection(\"localhost\",\"root\",password,db)\n",
    "results=read_query(connection,q9)\n",
    "for result in results:\n",
    "    print(result)"
   ]
  },
  {
   "cell_type": "code",
   "execution_count": null,
   "id": "e59094c7",
   "metadata": {},
   "outputs": [],
   "source": []
  }
 ],
 "metadata": {
  "kernelspec": {
   "display_name": "Python 3 (ipykernel)",
   "language": "python",
   "name": "python3"
  },
  "language_info": {
   "codemirror_mode": {
    "name": "ipython",
    "version": 3
   },
   "file_extension": ".py",
   "mimetype": "text/x-python",
   "name": "python",
   "nbconvert_exporter": "python",
   "pygments_lexer": "ipython3",
   "version": "3.9.12"
  }
 },
 "nbformat": 4,
 "nbformat_minor": 5
}
