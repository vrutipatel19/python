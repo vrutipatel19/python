{
 "cells": [
  {
   "cell_type": "code",
   "execution_count": 1,
   "id": "21dfcd1c",
   "metadata": {},
   "outputs": [
    {
     "name": "stdout",
     "output_type": "stream",
     "text": [
      "hello\n"
     ]
    }
   ],
   "source": [
    "#string\n",
    "\n",
    "s=\"hello\"\n",
    "print(s)"
   ]
  },
  {
   "cell_type": "code",
   "execution_count": 2,
   "id": "6dd5dd3c",
   "metadata": {},
   "outputs": [
    {
     "name": "stdout",
     "output_type": "stream",
     "text": [
      "hello\n"
     ]
    }
   ],
   "source": [
    "s='hello'\n",
    "print(s)"
   ]
  },
  {
   "cell_type": "code",
   "execution_count": 3,
   "id": "2b126f24",
   "metadata": {},
   "outputs": [
    {
     "name": "stdout",
     "output_type": "stream",
     "text": [
      "enter stringhello\n",
      "hello\n"
     ]
    }
   ],
   "source": [
    "string=input(\"enter string\")\n",
    "print(string)"
   ]
  },
  {
   "cell_type": "code",
   "execution_count": 11,
   "id": "da4e1bc3",
   "metadata": {},
   "outputs": [
    {
     "name": "stdout",
     "output_type": "stream",
     "text": [
      "enter stringhello world\n",
      "11\n"
     ]
    }
   ],
   "source": [
    "#len string\n",
    "string=input(\"enter string\")\n",
    "s=len(string)\n",
    "print(s)"
   ]
  },
  {
   "cell_type": "code",
   "execution_count": 7,
   "id": "a701cd19",
   "metadata": {},
   "outputs": [
    {
     "name": "stdout",
     "output_type": "stream",
     "text": [
      "5\n"
     ]
    }
   ],
   "source": [
    "#len string\n",
    "string=input(\"enter string\")\n",
    "# s=len(string)\n",
    "print(len(string))"
   ]
  },
  {
   "cell_type": "code",
   "execution_count": 14,
   "id": "54be0b71",
   "metadata": {},
   "outputs": [
    {
     "name": "stdout",
     "output_type": "stream",
     "text": [
      "<class 'str'>\n"
     ]
    }
   ],
   "source": [
    "#type\n",
    "\n",
    "string=\"hello\"\n",
    "print(type(string))"
   ]
  },
  {
   "cell_type": "code",
   "execution_count": 15,
   "id": "c8c08ce7",
   "metadata": {},
   "outputs": [
    {
     "name": "stdout",
     "output_type": "stream",
     "text": [
      "enter stringhello\n",
      "enter stringworld\n",
      "helloworld\n"
     ]
    }
   ],
   "source": [
    "string1=input(\"enter string\")\n",
    "string2=input(\"enter string\")\n",
    "\n",
    "s=string1+string2\n",
    "print(s)"
   ]
  },
  {
   "cell_type": "code",
   "execution_count": 16,
   "id": "8b8bb76c",
   "metadata": {},
   "outputs": [
    {
     "name": "stdout",
     "output_type": "stream",
     "text": [
      "enter stringhello world\n",
      "enter stringhello world\n",
      "hello world hello world\n"
     ]
    }
   ],
   "source": [
    "string1=input(\"enter string\")\n",
    "string2=input(\"enter string\")\n",
    "\n",
    "s=string1+\" \"+string2\n",
    "print(s)"
   ]
  },
  {
   "cell_type": "code",
   "execution_count": 18,
   "id": "dd824f56",
   "metadata": {},
   "outputs": [
    {
     "name": "stdout",
     "output_type": "stream",
     "text": [
      "enter stringhello\n",
      "enter no2\n",
      "hellohello\n"
     ]
    }
   ],
   "source": [
    "string=input(\"enter string\")\n",
    "no=eval(input(\"enter no\"))\n",
    "print(string*no)"
   ]
  },
  {
   "cell_type": "code",
   "execution_count": 21,
   "id": "3636058c",
   "metadata": {},
   "outputs": [
    {
     "name": "stdout",
     "output_type": "stream",
     "text": [
      "enter char:a\n",
      "a\n",
      "enter char:t\n",
      "a\n",
      "enter char:i\n",
      "ai\n",
      "enter char:y\n",
      "ai\n",
      "enter char:i\n",
      "aii\n",
      "enter char:o\n",
      "aiio\n",
      "enter char:y\n",
      "aiio\n",
      "enter char:u\n",
      "aiiou\n",
      "enter char:k\n",
      "aiiou\n",
      "enter char:jhl\n",
      "aiiou\n"
     ]
    }
   ],
   "source": [
    "s=''\n",
    "for i in range(10):\n",
    "    c=input(\"enter char:\")\n",
    "    if c=='a' or c=='i'or c=='o' or c=='e' or c=='u':\n",
    "        s=s+c\n",
    "print(s)        \n",
    "        "
   ]
  },
  {
   "cell_type": "code",
   "execution_count": 22,
   "id": "685a8a93",
   "metadata": {},
   "outputs": [
    {
     "name": "stdout",
     "output_type": "stream",
     "text": [
      "enter stringhello\n",
      "no\n"
     ]
    }
   ],
   "source": [
    "string=input(\"enter string\")\n",
    "\n",
    "if 'a' in string:\n",
    "    print('yes')\n",
    "else:\n",
    "    print('no')"
   ]
  },
  {
   "cell_type": "code",
   "execution_count": 23,
   "id": "4067deb1",
   "metadata": {},
   "outputs": [
    {
     "name": "stdout",
     "output_type": "stream",
     "text": [
      "enter stringhello\n",
      "yes\n"
     ]
    }
   ],
   "source": [
    "string=input(\"enter string\")\n",
    "\n",
    "if 'a' not in string:\n",
    "    print('yes')\n",
    "else:\n",
    "    print('no')"
   ]
  },
  {
   "cell_type": "code",
   "execution_count": 31,
   "id": "543d9668",
   "metadata": {},
   "outputs": [
    {
     "name": "stdout",
     "output_type": "stream",
     "text": [
      "['o', 'l', 'l', 'e', 'h']\n"
     ]
    }
   ],
   "source": [
    "\n",
    "x=['h','e','l','l','o']\n",
    "\n",
    "print(x[::-1])"
   ]
  },
  {
   "cell_type": "code",
   "execution_count": 32,
   "id": "add23c8b",
   "metadata": {},
   "outputs": [
    {
     "name": "stdout",
     "output_type": "stream",
     "text": [
      " Volume in drive C is Windows 10 SSD\n",
      " Volume Serial Number is 1638-776A\n",
      "\n",
      " Directory of C:\\Users\\user\n",
      "\n",
      "01/17/2023  05:33 PM    <DIR>          .\n",
      "01/17/2023  05:33 PM    <DIR>          ..\n",
      "06/03/2022  08:55 PM                25 .condarc\n",
      "06/30/2022  07:46 PM             8,632 .cxlayout.ini\n",
      "06/30/2022  07:46 PM               255 .flrecent\n",
      "01/17/2023  05:15 PM    <DIR>          .ipynb_checkpoints\n",
      "01/17/2023  05:13 PM    <DIR>          .ipython\n",
      "12/08/2022  02:01 PM               174 .packettracer\n",
      "01/16/2023  06:46 PM    <DIR>          .vscode\n",
      "05/24/2022  12:27 AM    <DIR>          3D Objects\n",
      "06/03/2022  08:54 PM    <DIR>          anaconda3\n",
      "09/03/2022  08:12 PM    <DIR>          Cisco Packet Tracer 7.3.0\n",
      "06/04/2022  08:54 PM               449 cleanup-fluent-DESKTOP-38I5M9D-17192.bat\n",
      "05/24/2022  12:27 AM    <DIR>          Contacts\n",
      "11/15/2022  05:20 PM            25,563 demo.ipynb\n",
      "11/10/2022  05:40 PM             2,434 demo.py\n",
      "12/26/2022  03:04 PM                60 demofile2.txt\n",
      "01/17/2023  04:42 PM    <DIR>          Desktop\n",
      "10/20/2022  01:17 PM             7,007 dharti pr.ipynb\n",
      "01/13/2023  10:57 AM    <DIR>          Documents\n",
      "01/17/2023  01:27 PM    <DIR>          Downloads\n",
      "06/22/2022  07:32 PM    <DIR>          Favorites\n",
      "08/23/2022  05:44 PM    <DIR>          Jedi\n",
      "05/23/2022  12:33 PM    <DIR>          Links\n",
      "07/06/2022  08:39 PM    <DIR>          Music\n",
      "01/06/2023  05:14 PM                 0 myfile.txt\n",
      "09/21/2022  03:54 PM                 0 mysql\n",
      "01/06/2023  05:19 PM                 0 new.txt\n",
      "05/24/2022  12:29 AM    <DIR>          OneDrive\n",
      "09/22/2022  10:10 AM            48,095 pb_license_tcl.txt\n",
      "09/22/2022  10:15 AM             1,334 pb_session.log\n",
      "12/02/2022  05:04 PM    <DIR>          Pictures\n",
      "12/21/2022  06:25 PM    <DIR>          python\n",
      "12/26/2022  06:26 PM    <DIR>          python 6_7\n",
      "05/24/2022  12:27 AM    <DIR>          Saved Games\n",
      "12/28/2022  04:01 PM    <DIR>          seaborn-data\n",
      "05/24/2022  12:28 AM    <DIR>          Searches\n",
      "12/16/2022  01:32 PM            18,521 sql_python.ipynb\n",
      "01/17/2023  05:33 PM             5,863 string.ipynb\n",
      "01/10/2023  04:40 PM            85,064 Untitled.ipynb\n",
      "01/13/2023  04:27 PM            45,138 Untitled1.ipynb\n",
      "01/17/2023  05:15 PM            16,136 Untitled10.ipynb\n",
      "01/09/2023  02:26 PM            18,310 Untitled11.ipynb\n",
      "11/16/2022  05:55 PM            54,162 Untitled12.ipynb\n",
      "12/20/2022  05:16 PM            21,582 Untitled13.ipynb\n",
      "12/12/2022  01:57 PM            25,921 Untitled14.ipynb\n",
      "12/09/2022  02:30 PM            18,688 Untitled15.ipynb\n",
      "10/11/2022  03:11 PM            10,997 Untitled16.ipynb\n",
      "12/17/2022  01:14 PM            11,867 Untitled17.ipynb\n",
      "12/06/2022  02:14 PM            32,183 Untitled18.ipynb\n",
      "12/23/2022  01:46 PM            15,751 Untitled19.ipynb\n",
      "01/09/2023  05:32 PM             9,641 Untitled2.ipynb\n",
      "12/17/2022  01:10 PM             9,723 Untitled20.ipynb\n",
      "12/08/2022  05:14 PM             8,519 Untitled21.ipynb\n",
      "12/17/2022  01:15 PM             7,868 Untitled22.ipynb\n",
      "11/24/2022  03:15 PM             1,776 Untitled23.ipynb\n",
      "12/22/2022  03:58 PM            33,975 Untitled24.ipynb\n",
      "12/09/2022  02:15 PM             9,070 Untitled25.ipynb\n",
      "09/22/2022  05:57 PM             3,304 Untitled26.ipynb\n",
      "09/24/2022  01:39 PM             3,055 Untitled27.ipynb\n",
      "12/01/2022  02:47 PM             3,630 Untitled28.ipynb\n",
      "09/01/2022  06:07 PM             7,752 Untitled29.ipynb\n",
      "08/29/2022  12:33 PM             1,858 Untitled3.ipynb\n",
      "09/24/2022  05:03 PM                72 Untitled30.ipynb\n",
      "07/06/2022  07:04 PM             2,746 Untitled31.ipynb\n",
      "09/26/2022  11:51 AM             3,488 Untitled32.ipynb\n",
      "12/16/2022  03:03 PM             8,178 Untitled33.ipynb\n",
      "09/26/2022  12:26 PM             6,113 Untitled34.ipynb\n",
      "09/26/2022  03:01 PM               589 Untitled35.ipynb\n",
      "09/28/2022  02:45 PM             4,660 Untitled36.ipynb\n",
      "09/16/2022  01:47 PM             2,793 Untitled37.ipynb\n",
      "10/07/2022  11:35 AM             1,304 Untitled38.ipynb\n",
      "10/07/2022  12:25 PM             3,407 Untitled39.ipynb\n",
      "09/16/2022  01:47 PM             1,530 Untitled4.ipynb\n",
      "10/10/2022  12:56 PM             1,523 Untitled40.ipynb\n",
      "10/10/2022  02:35 PM            10,546 Untitled41.ipynb\n",
      "07/20/2022  07:28 PM             3,304 Untitled42.ipynb\n",
      "10/13/2022  01:05 PM             4,248 Untitled43.ipynb\n",
      "07/21/2022  05:41 PM             3,269 Untitled44.ipynb\n",
      "10/13/2022  04:05 PM             2,966 Untitled45.ipynb\n",
      "10/13/2022  01:26 PM             5,127 Untitled46.ipynb\n",
      "10/13/2022  03:03 PM             4,164 Untitled47.ipynb\n",
      "10/14/2022  01:04 PM             3,920 Untitled48.ipynb\n",
      "10/17/2022  12:15 PM             1,877 Untitled49.ipynb\n",
      "09/24/2022  03:41 PM            14,589 Untitled5.ipynb\n",
      "10/19/2022  12:48 PM             1,897 Untitled50.ipynb\n",
      "07/28/2022  04:25 PM             7,358 Untitled51.ipynb\n",
      "07/28/2022  05:19 PM             4,707 Untitled52.ipynb\n",
      "07/27/2022  07:40 PM             5,303 Untitled53.ipynb\n",
      "10/20/2022  01:13 PM             7,007 Untitled54.ipynb\n",
      "11/02/2022  12:52 PM               984 Untitled55.ipynb\n",
      "11/04/2022  03:32 PM             5,356 Untitled56.ipynb\n",
      "11/07/2022  03:06 PM             5,796 Untitled57.ipynb\n",
      "11/09/2022  12:19 PM             2,087 Untitled58.ipynb\n",
      "09/16/2022  01:50 PM             2,092 Untitled59.ipynb\n",
      "09/06/2022  04:06 PM             1,237 Untitled6.ipynb\n",
      "07/29/2022  07:32 PM             4,085 Untitled60.ipynb\n",
      "11/14/2022  10:59 AM               878 Untitled61.ipynb\n",
      "11/11/2022  12:29 PM               986 Untitled62.ipynb\n",
      "11/11/2022  04:44 PM             2,941 Untitled63.ipynb\n",
      "11/15/2022  12:00 PM             2,980 Untitled64.ipynb\n",
      "11/14/2022  01:36 PM             5,116 Untitled65.ipynb\n",
      "11/14/2022  05:18 PM             2,157 Untitled66.ipynb\n",
      "11/16/2022  12:46 PM             3,794 Untitled67.ipynb\n",
      "11/17/2022  11:10 AM             2,013 Untitled68.ipynb\n",
      "08/03/2022  08:16 PM             8,969 Untitled69.ipynb\n",
      "09/19/2022  03:14 PM             1,942 Untitled7.ipynb\n",
      "11/21/2022  11:38 AM             3,144 Untitled70.ipynb\n",
      "11/23/2022  11:42 AM             1,959 Untitled71.ipynb\n",
      "11/24/2022  05:48 PM             2,240 Untitled72.ipynb\n",
      "11/28/2022  11:18 AM             1,522 Untitled73.ipynb\n",
      "11/28/2022  11:20 AM               872 Untitled74.ipynb\n",
      "11/28/2022  11:30 AM        29,563,074 Untitled75.ipynb\n",
      "11/28/2022  11:41 AM             1,083 Untitled76.ipynb\n",
      "11/28/2022  11:57 AM             1,256 Untitled77.ipynb\n",
      "11/28/2022  12:16 PM             2,212 Untitled78.ipynb\n",
      "11/28/2022  12:20 PM             3,057 Untitled79.ipynb\n",
      "10/12/2022  10:56 AM             2,059 Untitled8.ipynb\n",
      "11/28/2022  12:22 PM             1,110 Untitled80.ipynb\n",
      "11/30/2022  12:48 PM             3,045 Untitled81.ipynb\n",
      "12/05/2022  04:51 PM             3,856 Untitled82.ipynb\n",
      "12/07/2022  11:31 AM             3,089 Untitled83.ipynb\n",
      "12/09/2022  04:32 PM               966 Untitled84.ipynb\n",
      "12/16/2022  11:54 AM             2,636 Untitled85.ipynb\n",
      "12/19/2022  11:38 AM             1,307 Untitled86.ipynb\n",
      "12/19/2022  01:30 PM             5,625 Untitled87.ipynb\n",
      "12/19/2022  01:42 PM             1,404 Untitled88.ipynb\n",
      "12/22/2022  05:59 PM             4,801 Untitled89.ipynb\n",
      "09/16/2022  01:54 PM             4,757 Untitled9.ipynb\n",
      "12/26/2022  04:03 PM             2,608 Untitled90.ipynb\n",
      "12/28/2022  11:57 AM               589 Untitled91.ipynb\n",
      "01/04/2023  03:49 PM             2,295 Untitled92.ipynb\n",
      "01/04/2023  06:02 PM             4,485 Untitled93.ipynb\n",
      "01/10/2023  05:12 PM            11,974 Untitled94.ipynb\n",
      "01/17/2023  05:13 PM                72 Untitled95.ipynb\n",
      "01/17/2023  05:18 PM    <DIR>          Videos\n",
      "01/05/2023  05:37 PM    <DIR>          vishal py\n",
      "01/11/2023  07:01 PM    <DIR>          vishalsir\n",
      "08/16/2022  05:29 PM             6,734 vruti.ipynb\n",
      "08/01/2022  03:29 PM             2,103 vrutiprogramleb.ipynb\n",
      "             114 File(s)     30,390,414 bytes\n",
      "              26 Dir(s)  34,994,343,936 bytes free\n"
     ]
    }
   ],
   "source": [
    "ls\n"
   ]
  },
  {
   "cell_type": "code",
   "execution_count": null,
   "id": "0ffff100",
   "metadata": {},
   "outputs": [],
   "source": []
  }
 ],
 "metadata": {
  "kernelspec": {
   "display_name": "Python 3 (ipykernel)",
   "language": "python",
   "name": "python3"
  },
  "language_info": {
   "codemirror_mode": {
    "name": "ipython",
    "version": 3
   },
   "file_extension": ".py",
   "mimetype": "text/x-python",
   "name": "python",
   "nbconvert_exporter": "python",
   "pygments_lexer": "ipython3",
   "version": "3.9.12"
  }
 },
 "nbformat": 4,
 "nbformat_minor": 5
}
