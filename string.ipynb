{
 "cells": [
  {
   "cell_type": "code",
   "execution_count": 1,
   "id": "dc8e4931",
   "metadata": {},
   "outputs": [
    {
     "name": "stdout",
     "output_type": "stream",
     "text": [
      "hello\n"
     ]
    }
   ],
   "source": [
    "#string\n",
    "\n",
    "s=\"hello\"\n",
    "print(s)"
   ]
  },
  {
   "cell_type": "code",
   "execution_count": 2,
   "id": "a459c069",
   "metadata": {},
   "outputs": [
    {
     "name": "stdout",
     "output_type": "stream",
     "text": [
      "hello\n"
     ]
    }
   ],
   "source": [
    "s='hello'\n",
    "print(s)"
   ]
  },
  {
   "cell_type": "code",
   "execution_count": 3,
   "id": "e18ac653",
   "metadata": {},
   "outputs": [
    {
     "name": "stdout",
     "output_type": "stream",
     "text": [
      "enter stringhello\n",
      "hello\n"
     ]
    }
   ],
   "source": [
    "string=input(\"enter string\")\n",
    "print(string)"
   ]
  },
  {
   "cell_type": "code",
   "execution_count": 11,
   "id": "984dd434",
   "metadata": {},
   "outputs": [
    {
     "name": "stdout",
     "output_type": "stream",
     "text": [
      "enter stringhello world\n",
      "11\n"
     ]
    }
   ],
   "source": [
    "#len string\n",
    "string=input(\"enter string\")\n",
    "s=len(string)\n",
    "print(s)"
   ]
  },
  {
   "cell_type": "code",
   "execution_count": 7,
   "id": "4044dd69",
   "metadata": {},
   "outputs": [
    {
     "name": "stdout",
     "output_type": "stream",
     "text": [
      "5\n"
     ]
    }
   ],
   "source": [
    "#len string\n",
    "string=input(\"enter string\")\n",
    "# s=len(string)\n",
    "print(len(string))"
   ]
  },
  {
   "cell_type": "code",
   "execution_count": 14,
   "id": "05fa7c58",
   "metadata": {},
   "outputs": [
    {
     "name": "stdout",
     "output_type": "stream",
     "text": [
      "<class 'str'>\n"
     ]
    }
   ],
   "source": [
    "#type\n",
    "\n",
    "string=\"hello\"\n",
    "print(type(string))"
   ]
  },
  {
   "cell_type": "code",
   "execution_count": 15,
   "id": "0e08b3c6",
   "metadata": {},
   "outputs": [
    {
     "name": "stdout",
     "output_type": "stream",
     "text": [
      "enter stringhello\n",
      "enter stringworld\n",
      "helloworld\n"
     ]
    }
   ],
   "source": [
    "string1=input(\"enter string\")\n",
    "string2=input(\"enter string\")\n",
    "\n",
    "s=string1+string2\n",
    "print(s)"
   ]
  },
  {
   "cell_type": "code",
   "execution_count": 16,
   "id": "4ef76e7d",
   "metadata": {},
   "outputs": [
    {
     "name": "stdout",
     "output_type": "stream",
     "text": [
      "enter stringhello world\n",
      "enter stringhello world\n",
      "hello world hello world\n"
     ]
    }
   ],
   "source": [
    "string1=input(\"enter string\")\n",
    "string2=input(\"enter string\")\n",
    "\n",
    "s=string1+\" \"+string2\n",
    "print(s)"
   ]
  },
  {
   "cell_type": "code",
   "execution_count": 18,
   "id": "53b43fe7",
   "metadata": {},
   "outputs": [
    {
     "name": "stdout",
     "output_type": "stream",
     "text": [
      "enter stringhello\n",
      "enter no2\n",
      "hellohello\n"
     ]
    }
   ],
   "source": [
    "string=input(\"enter string\")\n",
    "no=eval(input(\"enter no\"))\n",
    "print(string*no)"
   ]
  },
  {
   "cell_type": "code",
   "execution_count": 21,
   "id": "98b72b6f",
   "metadata": {},
   "outputs": [
    {
     "name": "stdout",
     "output_type": "stream",
     "text": [
      "enter char:a\n",
      "a\n",
      "enter char:t\n",
      "a\n",
      "enter char:i\n",
      "ai\n",
      "enter char:y\n",
      "ai\n",
      "enter char:i\n",
      "aii\n",
      "enter char:o\n",
      "aiio\n",
      "enter char:y\n",
      "aiio\n",
      "enter char:u\n",
      "aiiou\n",
      "enter char:k\n",
      "aiiou\n",
      "enter char:jhl\n",
      "aiiou\n"
     ]
    }
   ],
   "source": [
    "s=''\n",
    "for i in range(10):\n",
    "    c=input(\"enter char:\")\n",
    "    if c=='a' or c=='i'or c=='o' or c=='e' or c=='u':\n",
    "        s=s+c\n",
    "print(s)        \n",
    "        "
   ]
  },
  {
   "cell_type": "code",
   "execution_count": 22,
   "id": "9e4b2049",
   "metadata": {},
   "outputs": [
    {
     "name": "stdout",
     "output_type": "stream",
     "text": [
      "enter stringhello\n",
      "no\n"
     ]
    }
   ],
   "source": [
    "string=input(\"enter string\")\n",
    "\n",
    "if 'a' in string:\n",
    "    print('yes')\n",
    "else:\n",
    "    print('no')"
   ]
  },
  {
   "cell_type": "code",
   "execution_count": 23,
   "id": "4f6bd575",
   "metadata": {},
   "outputs": [
    {
     "name": "stdout",
     "output_type": "stream",
     "text": [
      "enter stringhello\n",
      "yes\n"
     ]
    }
   ],
   "source": [
    "string=input(\"enter string\")\n",
    "\n",
    "if 'a' not in string:\n",
    "    print('yes')\n",
    "else:\n",
    "    print('no')"
   ]
  },
  {
   "cell_type": "code",
   "execution_count": 31,
   "id": "9364d9fd",
   "metadata": {},
   "outputs": [
    {
     "name": "stdout",
     "output_type": "stream",
     "text": [
      "['o', 'l', 'l', 'e', 'h']\n"
     ]
    }
   ],
   "source": [
    "\n",
    "x=['h','e','l','l','o']\n",
    "\n",
    "print(x[::-1])"
   ]
  },
  {
   "cell_type": "code",
   "execution_count": null,
   "id": "37e43b03",
   "metadata": {},
   "outputs": [],
   "source": [
    "\n"
   ]
  },
  {
   "cell_type": "code",
   "execution_count": null,
   "id": "0c123747",
   "metadata": {},
   "outputs": [],
   "source": []
  }
 ],
 "metadata": {
  "kernelspec": {
   "display_name": "Python 3 (ipykernel)",
   "language": "python",
   "name": "python3"
  },
  "language_info": {
   "codemirror_mode": {
    "name": "ipython",
    "version": 3
   },
   "file_extension": ".py",
   "mimetype": "text/x-python",
   "name": "python",
   "nbconvert_exporter": "python",
   "pygments_lexer": "ipython3",
   "version": "3.9.12"
  }
 },
 "nbformat": 4,
 "nbformat_minor": 5
}
