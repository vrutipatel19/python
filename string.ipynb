{
 "cells": [
  {
   "cell_type": "code",
   "execution_count": 1,
   "id": "dc8e4931",
   "metadata": {},
   "outputs": [
    {
     "name": "stdout",
     "output_type": "stream",
     "text": [
      "hello\n"
     ]
    }
   ],
   "source": [
    "#string\n",
    "\n",
    "s=\"hello\"\n",
    "print(s)"
   ]
  },
  {
   "cell_type": "code",
   "execution_count": 2,
   "id": "a459c069",
   "metadata": {},
   "outputs": [
    {
     "name": "stdout",
     "output_type": "stream",
     "text": [
      "hello\n"
     ]
    }
   ],
   "source": [
    "s='hello'\n",
    "print(s)"
   ]
  },
  {
   "cell_type": "code",
   "execution_count": 3,
   "id": "e18ac653",
   "metadata": {},
   "outputs": [
    {
     "name": "stdout",
     "output_type": "stream",
     "text": [
      "enter stringhello\n",
      "hello\n"
     ]
    }
   ],
   "source": [
    "string=input(\"enter string\")\n",
    "print(string)"
   ]
  },
  {
   "cell_type": "code",
   "execution_count": 11,
   "id": "984dd434",
   "metadata": {},
   "outputs": [
    {
     "name": "stdout",
     "output_type": "stream",
     "text": [
      "enter stringhello world\n",
      "11\n"
     ]
    }
   ],
   "source": [
    "#len string\n",
    "string=input(\"enter string\")\n",
    "s=len(string)\n",
    "print(s)"
   ]
  },
  {
   "cell_type": "code",
   "execution_count": 7,
   "id": "4044dd69",
   "metadata": {},
   "outputs": [
    {
     "name": "stdout",
     "output_type": "stream",
     "text": [
      "5\n"
     ]
    }
   ],
   "source": [
    "#len string\n",
    "string=input(\"enter string\")\n",
    "# s=len(string)\n",
    "print(len(string))"
   ]
  },
  {
   "cell_type": "code",
   "execution_count": 14,
   "id": "05fa7c58",
   "metadata": {},
   "outputs": [
    {
     "name": "stdout",
     "output_type": "stream",
     "text": [
      "<class 'str'>\n"
     ]
    }
   ],
   "source": [
    "#type\n",
    "\n",
    "string=\"hello\"\n",
    "print(type(string))"
   ]
  },
  {
   "cell_type": "code",
   "execution_count": 15,
   "id": "0e08b3c6",
   "metadata": {},
   "outputs": [
    {
     "name": "stdout",
     "output_type": "stream",
     "text": [
      "enter stringhello\n",
      "enter stringworld\n",
      "helloworld\n"
     ]
    }
   ],
   "source": [
    "string1=input(\"enter string\")\n",
    "string2=input(\"enter string\")\n",
    "\n",
    "s=string1+string2\n",
    "print(s)"
   ]
  },
  {
   "cell_type": "code",
   "execution_count": 16,
   "id": "4ef76e7d",
   "metadata": {},
   "outputs": [
    {
     "name": "stdout",
     "output_type": "stream",
     "text": [
      "enter stringhello world\n",
      "enter stringhello world\n",
      "hello world hello world\n"
     ]
    }
   ],
   "source": [
    "string1=input(\"enter string\")\n",
    "string2=input(\"enter string\")\n",
    "\n",
    "s=string1+\" \"+string2\n",
    "print(s)"
   ]
  },
  {
   "cell_type": "code",
   "execution_count": 18,
   "id": "53b43fe7",
   "metadata": {},
   "outputs": [
    {
     "name": "stdout",
     "output_type": "stream",
     "text": [
      "enter stringhello\n",
      "enter no2\n",
      "hellohello\n"
     ]
    }
   ],
   "source": [
    "string=input(\"enter string\")\n",
    "no=eval(input(\"enter no\"))\n",
    "print(string*no)"
   ]
  },
  {
   "cell_type": "code",
   "execution_count": 21,
   "id": "98b72b6f",
   "metadata": {},
   "outputs": [
    {
     "name": "stdout",
     "output_type": "stream",
     "text": [
      "enter char:a\n",
      "a\n",
      "enter char:t\n",
      "a\n",
      "enter char:i\n",
      "ai\n",
      "enter char:y\n",
      "ai\n",
      "enter char:i\n",
      "aii\n",
      "enter char:o\n",
      "aiio\n",
      "enter char:y\n",
      "aiio\n",
      "enter char:u\n",
      "aiiou\n",
      "enter char:k\n",
      "aiiou\n",
      "enter char:jhl\n",
      "aiiou\n"
     ]
    }
   ],
   "source": [
    "s=''\n",
    "for i in range(10):\n",
    "    c=input(\"enter char:\")\n",
    "    if c=='a' or c=='i'or c=='o' or c=='e' or c=='u':\n",
    "        s=s+c\n",
    "print(s)        \n",
    "        "
   ]
  },
  {
   "cell_type": "code",
   "execution_count": 22,
   "id": "9e4b2049",
   "metadata": {},
   "outputs": [
    {
     "name": "stdout",
     "output_type": "stream",
     "text": [
      "enter stringhello\n",
      "no\n"
     ]
    }
   ],
   "source": [
    "string=input(\"enter string\")\n",
    "\n",
    "if 'a' in string:\n",
    "    print('yes')\n",
    "else:\n",
    "    print('no')"
   ]
  },
  {
   "cell_type": "code",
   "execution_count": 23,
   "id": "4f6bd575",
   "metadata": {},
   "outputs": [
    {
     "name": "stdout",
     "output_type": "stream",
     "text": [
      "enter stringhello\n",
      "yes\n"
     ]
    }
   ],
   "source": [
    "string=input(\"enter string\")\n",
    "\n",
    "if 'a' not in string:\n",
    "    print('yes')\n",
    "else:\n",
    "    print('no')"
   ]
  },
  {
   "cell_type": "code",
   "execution_count": 31,
   "id": "9364d9fd",
   "metadata": {},
   "outputs": [
    {
     "name": "stdout",
     "output_type": "stream",
     "text": [
      "['o', 'l', 'l', 'e', 'h']\n"
     ]
    }
   ],
   "source": [
    "\n",
    "x=['h','e','l','l','o']\n",
    "\n",
    "print(x[::-1])"
   ]
  },
  {
   "cell_type": "code",
   "execution_count": 6,
   "id": "37e43b03",
   "metadata": {},
   "outputs": [
    {
     "name": "stdout",
     "output_type": "stream",
     "text": [
      "o\n"
     ]
    }
   ],
   "source": [
    "#array index always start with 0\n",
    "#indexing:\n",
    "string=input(\"enter string\")\n",
    "print(string[0])\n"
   ]
  },
  {
   "cell_type": "code",
   "execution_count": 11,
   "id": "0c123747",
   "metadata": {},
   "outputs": [
    {
     "name": "stdout",
     "output_type": "stream",
     "text": [
      "enter stringhello world\n",
      "l\n"
     ]
    }
   ],
   "source": [
    "string=input(\"enter string\")\n",
    "print(string[-2])"
   ]
  },
  {
   "cell_type": "code",
   "execution_count": 14,
   "id": "fff83a54",
   "metadata": {},
   "outputs": [
    {
     "name": "stdout",
     "output_type": "stream",
     "text": [
      "llo world\n"
     ]
    }
   ],
   "source": [
    "# string=input(\"enter string\")\n",
    "\n",
    "s=\"hello world\"\n",
    "print(s[2:])"
   ]
  },
  {
   "cell_type": "code",
   "execution_count": 15,
   "id": "586bb0a3",
   "metadata": {},
   "outputs": [
    {
     "name": "stdout",
     "output_type": "stream",
     "text": [
      "hello w\n"
     ]
    }
   ],
   "source": [
    "s=\"hello world\"\n",
    "print(s[:7])"
   ]
  },
  {
   "cell_type": "code",
   "execution_count": 16,
   "id": "b9f3d567",
   "metadata": {},
   "outputs": [
    {
     "name": "stdout",
     "output_type": "stream",
     "text": [
      "llo w\n"
     ]
    }
   ],
   "source": [
    "s=\"hello world\"\n",
    "print(s[2:7])"
   ]
  },
  {
   "cell_type": "code",
   "execution_count": 19,
   "id": "daef6aa1",
   "metadata": {},
   "outputs": [
    {
     "name": "stdout",
     "output_type": "stream",
     "text": [
      "hlowrd\n"
     ]
    }
   ],
   "source": [
    "s=\"hello world\"\n",
    "print(s[::2])"
   ]
  },
  {
   "cell_type": "code",
   "execution_count": 18,
   "id": "98dd0ada",
   "metadata": {},
   "outputs": [
    {
     "name": "stdout",
     "output_type": "stream",
     "text": [
      "dlrow olleh\n"
     ]
    }
   ],
   "source": [
    "s=\"hello world\"\n",
    "print(s[::-1])"
   ]
  },
  {
   "cell_type": "code",
   "execution_count": 20,
   "id": "b3a59b11",
   "metadata": {},
   "outputs": [
    {
     "name": "stdout",
     "output_type": "stream",
     "text": [
      "ld\n"
     ]
    }
   ],
   "source": [
    "s=\"hello world\"\n",
    "print(s[-2:])"
   ]
  },
  {
   "cell_type": "code",
   "execution_count": 21,
   "id": "ed3c1f69",
   "metadata": {},
   "outputs": [
    {
     "name": "stdout",
     "output_type": "stream",
     "text": [
      "lo wor\n"
     ]
    }
   ],
   "source": [
    "s=\"hello world\"\n",
    "print(s[-8:-2])"
   ]
  },
  {
   "cell_type": "code",
   "execution_count": 22,
   "id": "dffce916",
   "metadata": {},
   "outputs": [
    {
     "name": "stdout",
     "output_type": "stream",
     "text": [
      "hello\n"
     ]
    }
   ],
   "source": [
    "#string method\n",
    "\n",
    "s=\"HELLO\"\n",
    "print(s.lower())"
   ]
  },
  {
   "cell_type": "code",
   "execution_count": 23,
   "id": "91034558",
   "metadata": {},
   "outputs": [
    {
     "name": "stdout",
     "output_type": "stream",
     "text": [
      "HELLO\n"
     ]
    }
   ],
   "source": [
    "s=\"hello\"\n",
    "print(s.upper())"
   ]
  },
  {
   "cell_type": "code",
   "execution_count": 25,
   "id": "4dda484d",
   "metadata": {},
   "outputs": [
    {
     "name": "stdout",
     "output_type": "stream",
     "text": [
      "Food morninF\n"
     ]
    }
   ],
   "source": [
    "s=\"good morning\"\n",
    "\n",
    "print(s.replace('g','F'))"
   ]
  },
  {
   "cell_type": "code",
   "execution_count": 27,
   "id": "e0ab62e2",
   "metadata": {},
   "outputs": [
    {
     "name": "stdout",
     "output_type": "stream",
     "text": [
      "3\n"
     ]
    }
   ],
   "source": [
    "s=\"good morning\"\n",
    "\n",
    "print(s.count('o'))"
   ]
  },
  {
   "cell_type": "code",
   "execution_count": 28,
   "id": "f790bd7f",
   "metadata": {},
   "outputs": [
    {
     "name": "stdout",
     "output_type": "stream",
     "text": [
      "8\n"
     ]
    }
   ],
   "source": [
    "s=\"hello world\"\n",
    "\n",
    "print(s.index('r'))"
   ]
  },
  {
   "cell_type": "code",
   "execution_count": 33,
   "id": "28726086",
   "metadata": {},
   "outputs": [
    {
     "name": "stdout",
     "output_type": "stream",
     "text": [
      "True\n"
     ]
    }
   ],
   "source": [
    "s=\"helloworld\"\n",
    "print(s.isalpha())"
   ]
  },
  {
   "cell_type": "code",
   "execution_count": 34,
   "id": "6c7deb2c",
   "metadata": {},
   "outputs": [
    {
     "name": "stdout",
     "output_type": "stream",
     "text": [
      "hello 1y na1e is xyz\n"
     ]
    }
   ],
   "source": [
    "#reaplce m=1\n",
    "s=\"hello my name is xyz\" \n",
    "print(s.replace('m','1'))"
   ]
  },
  {
   "cell_type": "code",
   "execution_count": 36,
   "id": "7955d0c5",
   "metadata": {},
   "outputs": [
    {
     "name": "stdout",
     "output_type": "stream",
     "text": [
      "hello my na1e is xyz\n"
     ]
    }
   ],
   "source": [
    "#reaplce m=1\n",
    "s=\"hello my name is xyz\" \n",
    "print(s[0:11]+'1'+s[12:])"
   ]
  },
  {
   "cell_type": "code",
   "execution_count": 37,
   "id": "51e0eaf5",
   "metadata": {},
   "outputs": [
    {
     "name": "stdout",
     "output_type": "stream",
     "text": [
      "hello world\n",
      "hello world\n",
      "hello world\n",
      "hello world\n",
      "hello world\n",
      "hello world\n",
      "hello world\n",
      "hello world\n",
      "hello world\n",
      "hello world\n",
      "hello world\n"
     ]
    }
   ],
   "source": [
    "s=\"hello world\"\n",
    "\n",
    "for i in range(len(s)):\n",
    "    print(s)"
   ]
  },
  {
   "cell_type": "code",
   "execution_count": 38,
   "id": "b4585239",
   "metadata": {},
   "outputs": [
    {
     "name": "stdout",
     "output_type": "stream",
     "text": [
      "h\n",
      "e\n",
      "l\n",
      "l\n",
      "o\n",
      " \n",
      "w\n",
      "o\n",
      "r\n",
      "l\n",
      "d\n"
     ]
    }
   ],
   "source": [
    "s=\"hello world\"\n",
    "\n",
    "for i in range(len(s)):\n",
    "    print(s[i])"
   ]
  },
  {
   "cell_type": "code",
   "execution_count": 42,
   "id": "0afa8de1",
   "metadata": {},
   "outputs": [
    {
     "name": "stdout",
     "output_type": "stream",
     "text": [
      "hheelllloo\n"
     ]
    }
   ],
   "source": [
    "s=\"hello\"\n",
    "s1=''\n",
    "\n",
    "for i in s:\n",
    "    s1=s1+(i*2)\n",
    "print(s1)"
   ]
  },
  {
   "cell_type": "code",
   "execution_count": 48,
   "id": "cbb6448d",
   "metadata": {},
   "outputs": [
    {
     "name": "stdout",
     "output_type": "stream",
     "text": [
      "hh\n",
      "ee\n",
      "yy\n"
     ]
    }
   ],
   "source": [
    "s=\"hey\"\n",
    "\n",
    "for i in range(len(s)):\n",
    "     print(s[i]*2)    "
   ]
  },
  {
   "cell_type": "code",
   "execution_count": null,
   "id": "f5b95093",
   "metadata": {},
   "outputs": [],
   "source": []
  }
 ],
 "metadata": {
  "kernelspec": {
   "display_name": "Python 3 (ipykernel)",
   "language": "python",
   "name": "python3"
  },
  "language_info": {
   "codemirror_mode": {
    "name": "ipython",
    "version": 3
   },
   "file_extension": ".py",
   "mimetype": "text/x-python",
   "name": "python",
   "nbconvert_exporter": "python",
   "pygments_lexer": "ipython3",
   "version": "3.9.12"
  }
 },
 "nbformat": 4,
 "nbformat_minor": 5
}
